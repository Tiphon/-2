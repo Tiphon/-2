{
 "cells": [
  {
   "cell_type": "markdown",
   "id": "8ecfba90-5aa2-4479-8603-8e37f15c59be",
   "metadata": {},
   "source": [
    "ЗАДАЧА 1\n",
    "учитель хочет быстро узнать колличествоучеников, получивших неудволетворительные оценки за контрольную, если оценка меньше 2, то ученик идет на пересдачу, если больше, то получает зачет.\n",
    "ФОРМАТ ВВОДА\n",
    "вводится колличество учеников\n",
    "вводятся имена учеников\n",
    "вводятся оценки учеников\n",
    "ФОРМАТ ВЫВОДА\n",
    "колличество учеников, у которых оценка ниже 2 и их фамилии на следующекй строке.\n",
    "пример:\n",
    "ввод:\n",
    "2\n",
    "Синкин\n",
    "5\n",
    "Иванов\n",
    "1\n",
    "вывод:\n",
    "1\n",
    "Иванов"
   ]
  },
  {
   "cell_type": "code",
   "execution_count": 13,
   "id": "3d1facb7-2505-4b7e-bcf6-78b5358e8d51",
   "metadata": {},
   "outputs": [
    {
     "name": "stdin",
     "output_type": "stream",
     "text": [
      " 3\n",
      " Синкин\n",
      " 5\n",
      " Коган\n",
      " 4\n",
      " Иванов\n",
      " 1\n"
     ]
    },
    {
     "name": "stdout",
     "output_type": "stream",
     "text": [
      "1\n",
      "Иванов\n"
     ]
    }
   ],
   "source": [
    "#Решение задачи 1\n",
    "A = int(input())\n",
    "Marks = {}\n",
    "for i in range(A):\n",
    "    B = input()\n",
    "    C = int(input())\n",
    "    if C <= 2:\n",
    "        Marks[B] = C\n",
    "print(len(Marks))\n",
    "print(*Marks.keys(), \"на пересдачу!\")"
   ]
  },
  {
   "cell_type": "markdown",
   "id": "e23d5175-7bfa-4259-9a01-aa44a2fdae84",
   "metadata": {},
   "source": [
    "ЗАДАЧА 2\n",
    "на день рожденя к Максиму были приглашены N человек, а на день рождения Саши, M человек.выведите имена тех, кто пошёл и на день рождения Максима, и на день рождения Саши.\n",
    "ФОРМАТ ВВОДА:\n",
    "вводится натуральное число N\n",
    "вводятся имена людей, которые пошли на день рождения Максима\n",
    "вводится натуральное число M\n",
    "вводятся имена людей, которые пошли на день рождения к Саше\n",
    "ФОРМАТ ВЫВОДА: \n",
    "выводятся имена человек в одну строчку.\n",
    "пример: \n",
    "ввод:\n",
    "5\r",
    " Миша\n",
    " Саш\r\n",
    " АртИ\r\n",
    " Иья\r\n",
    " Ад\n",
    "ре\r\n",
    " 4\r",
    " Миша\r",
    " Эмил\n",
    "\n",
    " Антон\r\n",
    " Артём\r\n",
    "Артём Миша\n"
   ]
  },
  {
   "cell_type": "code",
   "execution_count": 18,
   "id": "977099fb-c2cb-419d-bf7c-3338f4200326",
   "metadata": {},
   "outputs": [
    {
     "name": "stdin",
     "output_type": "stream",
     "text": [
      " 5\n",
      " Миша\n",
      " Саша\n",
      " Артём\n",
      " Илья\n",
      " Андрей\n",
      " 4\n",
      " Миша\n",
      " Эмиль\n",
      " Антон\n",
      " Артём\n"
     ]
    },
    {
     "name": "stdout",
     "output_type": "stream",
     "text": [
      "Артём Миша\n"
     ]
    }
   ],
   "source": [
    "#Решение задачи 2\n",
    "MAKS = set()\n",
    "SASH = set()\n",
    "N = int(input())\n",
    "for i in range(N):\n",
    "    MAKS.add(input())\n",
    "M = int(input())\n",
    "for i in range(M):\n",
    "    SASH.add(input())\n",
    "print(*MAKS&SASH)"
   ]
  },
  {
   "cell_type": "code",
   "execution_count": null,
   "id": "17b353d6-3169-4cac-8b69-5fa488a1c3b3",
   "metadata": {},
   "outputs": [],
   "source": []
  }
 ],
 "metadata": {
  "kernelspec": {
   "display_name": "Python 3 (ipykernel)",
   "language": "python",
   "name": "python3"
  },
  "language_info": {
   "codemirror_mode": {
    "name": "ipython",
    "version": 3
   },
   "file_extension": ".py",
   "mimetype": "text/x-python",
   "name": "python",
   "nbconvert_exporter": "python",
   "pygments_lexer": "ipython3",
   "version": "3.12.4"
  }
 },
 "nbformat": 4,
 "nbformat_minor": 5
}
